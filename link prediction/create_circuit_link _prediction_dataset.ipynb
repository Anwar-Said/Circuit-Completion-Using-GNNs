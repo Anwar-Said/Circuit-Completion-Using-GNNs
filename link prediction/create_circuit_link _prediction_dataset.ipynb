{
 "cells": [
  {
   "cell_type": "code",
   "execution_count": 1,
   "metadata": {},
   "outputs": [],
   "source": [
    "import networkx as nx\n",
    "import numpy as np\n",
    "import torch\n",
    "import pickle\n",
    "from torch_geometric.utils import from_networkx"
   ]
  },
  {
   "cell_type": "code",
   "execution_count": 2,
   "metadata": {},
   "outputs": [],
   "source": [
    "### expect dictionary dataset\n",
    "with open(\"data/ltspice_demos_LP_complete.pkl\",'rb') as f:\n",
    "    dataset = pickle.load(f)\n",
    "    f.close()\n",
    "with open('data/ltspice_demos_label_mapping.pkl', 'rb') as f:\n",
    "    mapping = pickle.load(f)\n",
    "    f.close()\n",
    "train_x = dataset['train_x']\n",
    "test_x = dataset['test_x'] \n",
    "# train_x.extend(test_x)"
   ]
  },
  {
   "cell_type": "code",
   "execution_count": 3,
   "metadata": {},
   "outputs": [
    {
     "data": {
      "text/plain": [
       "(116, 35)"
      ]
     },
     "execution_count": 3,
     "metadata": {},
     "output_type": "execute_result"
    }
   ],
   "source": [
    "len(train_x), len(test_x)"
   ]
  },
  {
   "cell_type": "code",
   "execution_count": 4,
   "metadata": {},
   "outputs": [
    {
     "data": {
      "text/plain": [
       "dict_keys(['train_x', 'test_x'])"
      ]
     },
     "execution_count": 4,
     "metadata": {},
     "output_type": "execute_result"
    }
   ],
   "source": [
    "dataset.keys()"
   ]
  },
  {
   "cell_type": "code",
   "execution_count": 5,
   "metadata": {},
   "outputs": [
    {
     "name": "stdout",
     "output_type": "stream",
     "text": [
      "total number of nodes and edges, max_number_of_nodes: 2455 3430 46\n"
     ]
    }
   ],
   "source": [
    "\n",
    "X,all_graphs = [],[]\n",
    "max_ = 0\n",
    "for g in train_x:\n",
    "    if g.number_of_nodes()>max_:\n",
    "        max_ = g.number_of_nodes()\n",
    "    for i, n in enumerate(g.nodes()):\n",
    "        feat = np.zeros((5,),dtype = np.float64)\n",
    "        node_type = g.nodes[n]['type']\n",
    "        index = mapping.get(node_type)\n",
    "        feat[index] = 1.0\n",
    "        X.append(feat)\n",
    "    g_ = nx.Graph()\n",
    "    g_.add_nodes_from(g.nodes())\n",
    "    g_.add_edges_from(g.edges())\n",
    "    all_graphs.append(g_)\n",
    "graph = nx.disjoint_union_all(all_graphs)\n",
    "print(\"total number of nodes and edges, max_number_of_nodes:\", graph.number_of_nodes(), graph.number_of_edges(),max_)\n",
    "data = from_networkx(graph,group_node_attrs=None,group_edge_attrs=None )\n",
    "data.x = torch.from_numpy(np.array(X)).float()\n",
    "torch.save(data,'data/ltspice_demos_torch_LP_complete.pt')"
   ]
  }
 ],
 "metadata": {
  "kernelspec": {
   "display_name": "my_env",
   "language": "python",
   "name": "my_env"
  },
  "language_info": {
   "codemirror_mode": {
    "name": "ipython",
    "version": 3
   },
   "file_extension": ".py",
   "mimetype": "text/x-python",
   "name": "python",
   "nbconvert_exporter": "python",
   "pygments_lexer": "ipython3",
   "version": "3.8.5"
  }
 },
 "nbformat": 4,
 "nbformat_minor": 5
}
